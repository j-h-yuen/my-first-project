{
 "cells": [
  {
   "cell_type": "markdown",
   "metadata": {},
   "source": [
    "#### **G&F Digitizing**\n",
    "\n",
    "# Convert paper scans from Griffin & Critchfield's into georeferenced digital formats, creating accurate range maps.\n",
    "\n",
    "------------------------------------------------------------------------------\n",
    "\n",
    "#### **Project Code**\n",
    "\n",
    "* Created by Jason Yuen.\n"
   ]
  },
  {
   "cell_type": "markdown",
   "metadata": {},
   "source": [
    "### Content \n",
    "\n",
    "* Running the necessary functions\n",
    "* Setting the file paths\n",
    "* Digitizing and running the script\n",
    "\n",
    "* Clipping feature classes to boundary"
   ]
  },
  {
   "cell_type": "markdown",
   "metadata": {
    "heading_collapsed": true
   },
   "source": [
    "#### 1. Running the necessary functions. \n",
    "\n",
    "We'll need to run this everytime we load into the script in order to remove the user's manual inputting of parameters into geoprocessing. "
   ]
  },
  {
   "cell_type": "code",
   "execution_count": null,
   "metadata": {
    "hidden": true,
    "id": "Fzf4N0eFCtHX",
    "scrolled": true
   },
   "outputs": [],
   "source": [
    "# Functions\n",
    "\n",
    "def project(speciesOfInterest):\n",
    "    # projects 1927 to 1983\n",
    "    arcpy.management.ProjectRaster(\n",
    "        in_raster=workflowFolderLoc + f\"georef_1927\\\\{speciesOfInterest}.tif\",\n",
    "        out_raster=workflowFolderLoc + f\"georef_1983\\\\{speciesOfInterest}83.tif\",\n",
    "        out_coor_system='PROJCS[\"NAD_1983_2011_California_Teale_Albers\",GEOGCS[\"GCS_NAD_1983_2011\",DATUM[\"D_NAD_1983_2011\",SPHEROID[\"GRS_1980\",6378137.0,298.257222101]],PRIMEM[\"Greenwich\",0.0],UNIT[\"Degree\",0.0174532925199433]],PROJECTION[\"Albers\"],PARAMETER[\"False_Easting\",0.0],PARAMETER[\"False_Northing\",-4000000.0],PARAMETER[\"Central_Meridian\",-120.0],PARAMETER[\"Standard_Parallel_1\",34.0],PARAMETER[\"Standard_Parallel_2\",40.5],PARAMETER[\"Latitude_Of_Origin\",0.0],UNIT[\"Meter\",1.0]]',\n",
    "        resampling_type=\"NEAREST\",\n",
    "        cell_size=\"213.933429069565 214.320035128142\",\n",
    "        geographic_transform=\"'NAD_1927_To_WGS_1984_79_CONUS + WGS_1984_(ITRF08)_To_NAD_1983_2011'\",\n",
    "        Registration_Point=None,\n",
    "        in_coor_system='PROJCS[\"NAD_1927_California_Teale_Albers\",GEOGCS[\"GCS_North_American_1927\",DATUM[\"D_North_American_1927\",SPHEROID[\"Clarke_1866\",6378206.4,294.9786982]],PRIMEM[\"Greenwich\",0.0],UNIT[\"Degree\",0.0174532925199433]],PROJECTION[\"Albers\"],PARAMETER[\"False_Easting\",0.0],PARAMETER[\"False_Northing\",-4000000.0],PARAMETER[\"Central_Meridian\",-120.0],PARAMETER[\"Standard_Parallel_1\",34.0],PARAMETER[\"Standard_Parallel_2\",40.5],PARAMETER[\"Latitude_Of_Origin\",0.0],UNIT[\"Meter\",1.0]]',\n",
    "        vertical=\"NO_VERTICAL\"\n",
    "    )\n",
    "\n",
    "def createFC(speciesOfInterest):\n",
    "    # uses an if-else statement to create feature classes for points\n",
    "    if (pointResult == \"yes\"):\n",
    "        arcpy.management.CreateFeatureclass(\n",
    "            out_path=geodatabase,\n",
    "            out_name=f\"{speciesOfInterest}_points\",\n",
    "            geometry_type=\"POINT\",\n",
    "            template=None,\n",
    "            has_m=\"DISABLED\",\n",
    "            has_z=\"DISABLED\",\n",
    "            spatial_reference='PROJCS[\"NAD_1983_2011_California_Teale_Albers\",GEOGCS[\"GCS_NAD_1983_2011\",DATUM[\"D_NAD_1983_2011\",SPHEROID[\"GRS_1980\",6378137.0,298.257222101]],PRIMEM[\"Greenwich\",0.0],UNIT[\"Degree\",0.0174532925199433]],PROJECTION[\"Albers\"],PARAMETER[\"False_Easting\",0.0],PARAMETER[\"False_Northing\",-4000000.0],PARAMETER[\"Central_Meridian\",-120.0],PARAMETER[\"Standard_Parallel_1\",34.0],PARAMETER[\"Standard_Parallel_2\",40.5],PARAMETER[\"Latitude_Of_Origin\",0.0],UNIT[\"Meter\",1.0]];-16909700 -8597000 10000;-100000 10000;-100000 10000;0.001;0.001;0.001;IsHighPrecision',\n",
    "            config_keyword=\"\",\n",
    "            spatial_grid_1=0,\n",
    "            spatial_grid_2=0,\n",
    "            spatial_grid_3=0,\n",
    "            out_alias=\"\",\n",
    "            oid_type=\"SAME_AS_TEMPLATE\"\n",
    "        )\n",
    "    else:\n",
    "        print(\"No stands less than 2 miles across or of unknown size.\")\n",
    "\n",
    "    # uses an if-else statement to create feature classes for polygons\n",
    "    if (polygonResult == \"yes\"):\n",
    "        arcpy.management.CreateFeatureclass(\n",
    "            out_path=geodatabase,\n",
    "            out_name=f\"{speciesOfInterest}_blob_polyline\",\n",
    "            geometry_type=\"POLYLINE\",\n",
    "            template=None,\n",
    "            has_m=\"DISABLED\",\n",
    "            has_z=\"DISABLED\",\n",
    "            spatial_reference='PROJCS[\"NAD_1983_2011_California_Teale_Albers\",GEOGCS[\"GCS_NAD_1983_2011\",DATUM[\"D_NAD_1983_2011\",SPHEROID[\"GRS_1980\",6378137.0,298.257222101]],PRIMEM[\"Greenwich\",0.0],UNIT[\"Degree\",0.0174532925199433]],PROJECTION[\"Albers\"],PARAMETER[\"False_Easting\",0.0],PARAMETER[\"False_Northing\",-4000000.0],PARAMETER[\"Central_Meridian\",-120.0],PARAMETER[\"Standard_Parallel_1\",34.0],PARAMETER[\"Standard_Parallel_2\",40.5],PARAMETER[\"Latitude_Of_Origin\",0.0],UNIT[\"Meter\",1.0]];-16909700 -8597000 10000;-100000 10000;-100000 10000;0.001;0.001;0.001;IsHighPrecision',\n",
    "            config_keyword=\"\",\n",
    "            spatial_grid_1=0,\n",
    "            spatial_grid_2=0,\n",
    "            spatial_grid_3=0,\n",
    "            out_alias=\"\",\n",
    "            oid_type=\"SAME_AS_TEMPLATE\"\n",
    "        )\n",
    "    else:\n",
    "        print(\"No groups of stands more than 2 miles across.\")\n",
    "\n",
    "\n",
    "def postDigitize(speciesOfInterest):\n",
    "    if (pointResult == \"yes\"):\n",
    "        # buffer points\n",
    "        arcpy.analysis.Buffer(\n",
    "            in_features = f\"{geodatabase}\\\\{speciesOfInterest}_points\",\n",
    "            out_feature_class = f\"{geodatabase}\\\\{speciesOfInterest}_buffered\",\n",
    "            buffer_distance_or_field=\"1 Miles\",\n",
    "            line_side=\"FULL\",\n",
    "            line_end_type=\"ROUND\",\n",
    "            dissolve_option=\"NONE\",\n",
    "            dissolve_field=None,\n",
    "            method=\"PLANAR\"\n",
    "        )\n",
    "        # dissolve the buffer\n",
    "        arcpy.management.Dissolve(\n",
    "            in_features=f\"{geodatabase}\\\\{speciesOfInterest}_buffered\",\n",
    "            out_feature_class=f\"{geodatabase}\\\\{speciesOfInterest}_dissolved_points\",\n",
    "            dissolve_field=None,\n",
    "            statistics_fields=None,\n",
    "            multi_part=\"SINGLE_PART\",\n",
    "            unsplit_lines=\"DISSOLVE_LINES\",\n",
    "            concatenation_separator=\"\"\n",
    "        )\n",
    "        # add a field\n",
    "        arcpy.management.AddField(\n",
    "            in_table=f\"{geodatabase}\\\\{speciesOfInterest}_dissolved_points\",\n",
    "            field_name=\"Level\",\n",
    "            field_type=\"TEXT\"\n",
    "        )\n",
    "        # calculate field\n",
    "        arcpy.management.CalculateField(\n",
    "            in_table=f\"{geodatabase}\\\\{speciesOfInterest}_dissolved_points\",\n",
    "            field=\"Level\",\n",
    "            expression=\"2\",\n",
    "            expression_type=\"PYTHON3\",\n",
    "            code_block=\"\",\n",
    "            field_type=\"TEXT\",\n",
    "            enforce_domains=\"NO_ENFORCE_DOMAINS\"\n",
    "        )\n",
    "    else:\n",
    "        print(\"No stands less than 2 miles across or of unknown size.\")\n",
    "\n",
    "    if (polygonResult == \"yes\"):\n",
    "        # changes polylines too polygons\n",
    "        arcpy.management.FeatureToPolygon(\n",
    "            in_features=geodatabase + f\"\\\\{speciesOfInterest}_blob_polyline\",\n",
    "            out_feature_class=f\"{geodatabase}\\\\{speciesOfInterest}_level_1\",\n",
    "            cluster_tolerance=None,\n",
    "            attributes=\"ATTRIBUTES\",\n",
    "            label_features=None\n",
    "        )\n",
    "        # add a field\n",
    "        arcpy.management.AddField(\n",
    "            in_table= f\"{geodatabase}\\\\{speciesOfInterest}_level_1\",\n",
    "            field_name=\"Level\",\n",
    "            field_type=\"TEXT\"\n",
    "        )\n",
    "        # calculate field\n",
    "        arcpy.management.CalculateField(\n",
    "            in_table=f\"{geodatabase}\\\\{speciesOfInterest}_level_1\",\n",
    "            field=\"Level\",\n",
    "            expression=\"1\",\n",
    "            expression_type=\"PYTHON3\",\n",
    "            code_block=\"\",\n",
    "            field_type=\"TEXT\",\n",
    "            enforce_domains=\"NO_ENFORCE_DOMAINS\"\n",
    "        )\n",
    "    else:\n",
    "        print(\"No groups of stands more than 2 miles across.\")\n",
    "\n",
    "def postEdit(speciesOfInterest):\n",
    "    arcpy.analysis.Update(\n",
    "        in_features=f\"{geodatabase}\\\\{speciesOfInterest}_dissolved_points\",\n",
    "        update_features=f\"{geodatabase}\\\\{speciesOfInterest}_level_1\",\n",
    "        out_feature_class=f\"{geodatabase}\\\\{speciesOfInterest}_update\",\n",
    "        keep_borders=\"BORDERS\",\n",
    "        cluster_tolerance=None\n",
    "    )\n",
    "\n",
    "    arcpy.conversion.ExportFeatures(\n",
    "        in_features=f\"{geodatabase}\\\\{speciesOfInterest}_update\",\n",
    "        out_features=f\"{geodatabase}\\\\{speciesOfInterest}_level_2\",\n",
    "        where_clause=\"Level = '2'\",\n",
    "        use_field_alias_as_name=\"NOT_USE_ALIAS\",\n",
    "        field_mapping=f'Level \"Level\" true true false 255 Text 0 0,First,#,{speciesOfInterest}_update,Level,0,254;Shape_Length \"Shape_Length\" false true true 8 Double 0 0,First,#,{speciesOfInterest}_update,Shape_Length,-1,-1;Shape_Area \"Shape_Area\" false true true 8 Double 0 0,First,#,{speciesOfInterest}_update,Shape_Area,-1,-1',\n",
    "        sort_field=None\n",
    "    )\n",
    "\n",
    "def postEdit2(speciesOfInterest):\n",
    "    arcpy.conversion.ExportFeatures(\n",
    "        in_features=f\"{speciesOfInterest}_dissolved_points\",\n",
    "        out_features=f\"{geodatabase}\\\\{speciesOfInterest}_level_2\",\n",
    "        where_clause=\"\",\n",
    "        use_field_alias_as_name=\"NOT_USE_ALIAS\",\n",
    "        field_mapping=f'Shape_Length \"Shape_Length\" false true true 8 Double 0 0,First,#,{speciesOfInterest}_dissolved_points,Shape_Length,-1,-1;Shape_Area \"Shape_Area\" false true true 8 Double 0 0,First,#,{speciesOfInterest}_dissolved_points,Shape_Area,-1,-1;Level \"Level\" true true false 255 Text 0 0,First,#,{speciesOfInterest}_dissolved_points,Level,0,254',\n",
    "        sort_field=None\n",
    "    )\n",
    "\n",
    "    arcpy.conversion.ExportFeatures(\n",
    "        in_features=f\"{speciesOfInterest}_dissolved_points\",\n",
    "        out_features=f\"{geodatabase}\\\\{speciesOfInterest}_update\",\n",
    "        where_clause=\"\",\n",
    "        use_field_alias_as_name=\"NOT_USE_ALIAS\",\n",
    "        field_mapping=f'Shape_Length \"Shape_Length\" false true true 8 Double 0 0,First,#,{speciesOfInterest}_dissolved_points,Shape_Length,-1,-1;Shape_Area \"Shape_Area\" false true true 8 Double 0 0,First,#,{speciesOfInterest}_dissolved_points,Shape_Area,-1,-1;Level \"Level\" true true false 255 Text 0 0,First,#,{speciesOfInterest}_dissolved_points,Level,0,254',\n",
    "        sort_field=None\n",
    "    )\n",
    "\n",
    "\n",
    "def changeUpdate(speciesOfInterest):\n",
    "    arcpy.management.PolygonToLine(\n",
    "      in_features=f\"{geodatabase}\\\\{speciesOfInterest}_update\",\n",
    "      out_feature_class=f\"{geodatabase}\\\\{speciesOfInterest}_to_line\",\n",
    "      neighbor_option=\"IDENTIFY_NEIGHBORS\"\n",
    "    )\n",
    "\n",
    "def dashLinesToPolygon(speciesOfInterest):\n",
    "    arcpy.management.FeatureToPolygon(\n",
    "      in_features=f\"{geodatabase}\\\\{speciesOfInterest}_to_line\",\n",
    "      out_feature_class=f\"{geodatabase}\\\\{speciesOfInterest}_to_line_polygon\",\n",
    "      cluster_tolerance=None,\n",
    "      attributes=\"ATTRIBUTES\",\n",
    "      label_features=None\n",
    "  )\n",
    "\n",
    "def finalStep(speciesOfInterest):\n",
    "    updateFile = f\"{geodatabase}\\\\{speciesOfInterest}_update\"\n",
    "\n",
    "    with arcpy.da.UpdateCursor(updateFile, ['Level']) as cursor:\n",
    "        for row in cursor:\n",
    "            if row[0] is None:\n",
    "                row[0] = \"3\"\n",
    "                cursor.updateRow(row)\n",
    "\n",
    "    arcpy.conversion.ExportFeatures(\n",
    "        in_features=f\"{geodatabase}\\\\{speciesOfInterest}_update\",\n",
    "        out_features=f\"{geodatabase}\\\\{speciesOfInterest}_level_3\",\n",
    "        where_clause=\"Level = '3'\",\n",
    "        use_field_alias_as_name=\"NOT_USE_ALIAS\",\n",
    "        field_mapping=f'Level \"Level\" true true false 255 Text 0 0,First,#,{speciesOfInterest}_update,Level,0,254;Shape_Length \"Shape_Length\" false true true 8 Double 0 0,First,#,{speciesOfInterest}_update,Shape_Length,-1,-1;Shape_Area \"Shape_Area\" false true true 8 Double 0 0,First,#,{speciesOfInterest}_update,Shape_Area,-1,-1',\n",
    "        sort_field=None\n",
    "    )\n"
   ]
  },
  {
   "cell_type": "code",
   "execution_count": null,
   "metadata": {
    "hidden": true,
    "id": "xzeaTHdvyyMK"
   },
   "outputs": [],
   "source": [
    "def executeFunction(userInput):\n",
    "  # Check if any rows match the user input\n",
    "  matchedRow = functionsDF[functionsDF['Function title'] == userInput]\n",
    "\n",
    "  if not matchedRow.empty:\n",
    "    # Get the first matched row\n",
    "    desiredFunc = matchedRow.iloc[0]\n",
    "\n",
    "    # Execute the matched function\n",
    "    functionName = desiredFunc['Function title']\n",
    "    functionToCall = globals()[functionName]  # Get the function by name\n",
    "    functionToCall(speciesOfInterest)\n",
    "    print(f\"{desiredFunc['Purpose']}\")\n",
    "  else:\n",
    "    print(\"Function name not inputed correctly.\")"
   ]
  },
  {
   "cell_type": "code",
   "execution_count": null,
   "metadata": {
    "hidden": true,
    "id": "HRlxOY_onKDB"
   },
   "outputs": [],
   "source": [
    "import pandas as pd\n",
    "\n",
    "# Define the function titles, steps, and purposes\n",
    "functionsData = [\n",
    "    {\"Function title\": \"project\", \"Part\": \"Georeferencing\", \"Purpose\": \"Projects tif from 1927 to 1983.\", \"Next Task\": \"Run createFC function.\"},\n",
    "    {\"Function title\": \"createFC\", \"Part\": \"Part 1\", \"Purpose\": \"Creates feature classes to digitize.\", \"Next Task\": \"Start digitizing, then run next.\"},\n",
    "    {\"Function title\": \"postDigitize\", \"Part\": \"Part 1\", \"Purpose\": \"Runs post digitizing steps.\", \"Next Task\": \"Remove any internal polygons, then run next.\"},\n",
    "    {\"Function title\": \"postEdit\", \"Part\": \"Part 1\", \"Purpose\": \"Runs the steps after digitization.\", \"Next Task\": \"Part 2 work is next.\"},\n",
    "    {\"Function title\": \"postEdit2\", \"Part\": \"Part 1\", \"Purpose\": \"Runs the steps after digitization (points).\", \"Next Task\":\"None.\"},\n",
    "\n",
    "    {\"Function title\": \"changeUpdate\", \"Part\": \"Part 2\", \"Purpose\":\"Update file to lines.\", \"Next Task\":\"Start digitizing the dashed lines.\"},\n",
    "    {\"Function title\": \"dashLinesToPolygon\", \"Part\": \"Part 2\", \"Purpose\":\"Converts dashed lines to polygons.\", \"Next Task\":\"Start selecting, do the copy and paste special.\"},\n",
    "    {\"Function title\": \"finalStep\", \"Part\": \"Part 2\", \"Purpose\": \"Fills in update for level 3 and also export it.\", \"Next Task\":\"None.\"}\n",
    "]\n",
    "# Create a DataFrame from the functions data\n",
    "functionsDF = pd.DataFrame(functionsData)"
   ]
  },
  {
   "cell_type": "markdown",
   "metadata": {
    "heading_collapsed": true,
    "id": "p-461HQuGSh2"
   },
   "source": [
    "#### 2. Setting the file paths\n",
    "These workflowFolderLoc and geodatabase are unique to the user's computer. Edit the filepath accordingly since it is hardcoded. "
   ]
  },
  {
   "cell_type": "code",
   "execution_count": 1,
   "metadata": {
    "hidden": true,
    "id": "YmlN_p1lGbhy"
   },
   "outputs": [],
   "source": [
    "# file paths\n",
    "workflowFolderLoc = r\"E:\\Thorne_Lab_Internship\\G_and_F_workflow1\" # edit the location \n",
    "geodatabase = f\"{workflowFolderLoc}\\\\g_and_f.gdb\" # edit the gdb "
   ]
  },
  {
   "cell_type": "markdown",
   "metadata": {
    "heading_collapsed": true
   },
   "source": [
    "#### 3. Digitizing and running the script\n",
    "After running the necessary functions and setting the file paths, it's time to input in your species of interest and start digitizing."
   ]
  },
  {
   "cell_type": "code",
   "execution_count": null,
   "metadata": {
    "hidden": true,
    "id": "U6xDyIO3Gfyq"
   },
   "outputs": [],
   "source": [
    "# defining species of interest\n",
    "speciesOfInterest = input(\"Input species name of interest: \").lower() # the abbreviation\n",
    "\n",
    "# defining digitizing\n",
    "pointResult = input(\"Does the map have points? (yes/no) \").lower() \n",
    "polygonResult = input(\"Does the map have polygons? (yes/no) \").lower() \n",
    "probableResult = input(\"Does the map have the dashed lines? (yes/no) \").lower() "
   ]
  },
  {
   "cell_type": "code",
   "execution_count": null,
   "metadata": {
    "colab": {
     "base_uri": "https://localhost:8080/",
     "height": 300
    },
    "hidden": true,
    "id": "kXMnC0zZrduu",
    "outputId": "90e653f5-e99d-4b9b-ff03-7f12009401d8",
    "scrolled": false
   },
   "outputs": [],
   "source": [
    "# run for reference in order to see function title, part, purpose, and next task\n",
    "functionsDF"
   ]
  },
  {
   "cell_type": "code",
   "execution_count": null,
   "metadata": {
    "hidden": true,
    "id": "QmvNCYkMT7aj",
    "scrolled": true
   },
   "outputs": [],
   "source": [
    "# Get user input\n",
    "userInput = input(\"Put in your desired step aka the Function title: \")\n",
    "executeFunction(userInput)"
   ]
  },
  {
   "cell_type": "markdown",
   "metadata": {},
   "source": [
    "#### 4. Clipping feature classes to boundary, etc. \n",
    "\n",
    "End of project things."
   ]
  },
  {
   "cell_type": "code",
   "execution_count": null,
   "metadata": {},
   "outputs": [],
   "source": [
    "featureDatasets = arcpy.ListDatasets() # lists all feature datasets - all the ones in the OG gdb"
   ]
  },
  {
   "cell_type": "code",
   "execution_count": 11,
   "metadata": {},
   "outputs": [
    {
     "name": "stdout",
     "output_type": "stream",
     "text": [
      "Feature classes only in GDB1:\n",
      "cere\n",
      "\n",
      "Feature classes only in GDB2:\n"
     ]
    }
   ],
   "source": [
    "# run for the second time\n",
    "\n",
    "# paths \n",
    "gdb1 = \"E:\\Thorne_Lab_Internship\\G_and_F_workflow1\\g_and_f.gdb\"\n",
    "gdb2 = \"E:\\Thorne_Lab_Internship\\G_and_F_workflow1\\clipped_g_and_f.gdb\"\n",
    "\n",
    "# list of all feature datasets\n",
    "arcpy.env.workspace = gdb1\n",
    "feature_classes_gdb1 = set(arcpy.ListDatasets())\n",
    "arcpy.env.workspace = gdb2\n",
    "feature_classes_gdb2 = set(arcpy.ListDatasets())\n",
    "\n",
    "# compare feature classes\n",
    "only_in_gdb1 = feature_classes_gdb1 - feature_classes_gdb2\n",
    "only_in_gdb2 = feature_classes_gdb2 - feature_classes_gdb1\n",
    "\n",
    "featureDatasets = []\n",
    "\n",
    "print(\"Feature classes only in GDB1:\")\n",
    "for fc in only_in_gdb1:\n",
    "    print(fc)\n",
    "    featureDatasets.append(fc)\n",
    "    \n",
    "print(\"\\nFeature classes only in GDB2:\")\n",
    "for fc in only_in_gdb2:\n",
    "    print(fc)"
   ]
  },
  {
   "cell_type": "code",
   "execution_count": 13,
   "metadata": {
    "scrolled": true
   },
   "outputs": [
    {
     "name": "stdout",
     "output_type": "stream",
     "text": [
      "<geoprocessing spatial reference object object at 0x0000024CF2C72950>\n",
      "Successfully created feature dataset: cere\n",
      "cere_points\n"
     ]
    },
    {
     "ename": "ExecuteError",
     "evalue": "Failed to execute. Parameters are not valid.\nERROR 003917: The feature class geometry is not of type point | polygon | polyline\nFailed to execute (ClipLayer).\n",
     "output_type": "error",
     "traceback": [
      "\u001b[0;31m---------------------------------------------------------------------------\u001b[0m\n\u001b[0;31mExecuteError\u001b[0m                              Traceback (most recent call last)",
      "In  \u001b[0;34m[13]\u001b[0m:\nLine \u001b[0;34m27\u001b[0m:    arcpy.gapro.ClipLayer(\u001b[37m\u001b[39;49;00m\n",
      "File \u001b[0;34mC:\\Program Files\\ArcGIS\\Pro\\Resources\\ArcPy\\arcpy\\gapro.py\u001b[0m, in \u001b[0;32mClipLayer\u001b[0m:\nLine \u001b[0;34m830\u001b[0m:   \u001b[34mraise\u001b[39;49;00m e\u001b[37m\u001b[39;49;00m\n",
      "File \u001b[0;34mC:\\Program Files\\ArcGIS\\Pro\\Resources\\ArcPy\\arcpy\\gapro.py\u001b[0m, in \u001b[0;32mClipLayer\u001b[0m:\nLine \u001b[0;34m827\u001b[0m:   retval = convertArcObjectToPythonObject(gp.ClipLayer_gapro(*gp_fixargs((input_layer, clip_layer, out_feature_class), \u001b[34mTrue\u001b[39;49;00m)))\u001b[37m\u001b[39;49;00m\n",
      "File \u001b[0;34mC:\\Program Files\\ArcGIS\\Pro\\Resources\\ArcPy\\arcpy\\geoprocessing\\_base.py\u001b[0m, in \u001b[0;32m<lambda>\u001b[0m:\nLine \u001b[0;34m512\u001b[0m:   \u001b[34mreturn\u001b[39;49;00m \u001b[34mlambda\u001b[39;49;00m *args: val(*gp_fixargs(args, \u001b[34mTrue\u001b[39;49;00m))\u001b[37m\u001b[39;49;00m\n",
      "\u001b[0;31mExecuteError\u001b[0m: Failed to execute. Parameters are not valid.\nERROR 003917: The feature class geometry is not of type point | polygon | polyline\nFailed to execute (ClipLayer).\n\n\u001b[0;31m---------------------------------------------------------------------------\u001b[0m"
     ]
    }
   ],
   "source": [
    "# DON'T RUN THIS AGAIN\n",
    "\n",
    "fDatasetsPaths = []\n",
    "\n",
    "arcpy.env.workspace = geodatabase\n",
    "clippedGDB = f\"{workflowFolderLoc}\\\\clipped_g_and_f.gdb\"\n",
    "\n",
    "desc = arcpy.Describe(f\"{geodatabase}\\\\abam\\\\abam_update\")\n",
    "sr = desc.spatialReference\n",
    "print(sr)\n",
    "\n",
    "# loop through each feature dataset to create a new one in the clipped GDB\n",
    "for dataset in featureDatasets:\n",
    "    newFDS = f\"{clippedGDB}\\\\{dataset}\"\n",
    "    \n",
    "    try:\n",
    "        # create the feature dataset with the correct parameters\n",
    "        arcpy.management.CreateFeatureDataset(clippedGDB, dataset, sr)\n",
    "        print(f\"Successfully created feature dataset: {dataset}\")\n",
    "    except Exception as e:\n",
    "        print(f\"Error creating feature dataset {dataset}: {e}\")\n",
    "        \n",
    "    # for that same feature dataset, I also want to list the feature classes within it \n",
    "    fcList = arcpy.ListFeatureClasses(feature_dataset=dataset)\n",
    "    for fc in fcList:\n",
    "        print(fc)\n",
    "        arcpy.gapro.ClipLayer(\n",
    "        input_layer=fc,\n",
    "        clip_layer=f\"{geodatabase}\\\\CA_bnd83\",\n",
    "        out_feature_class = f\"{clippedGDB}\\\\{dataset}\\\\{fc}\"\n",
    "        )"
   ]
  },
  {
   "cell_type": "code",
   "execution_count": null,
   "metadata": {},
   "outputs": [],
   "source": [
    "# for later - checking to see what tifs I'm missing\n",
    "\n",
    "for feature in featureDatasets:\n",
    "    tif27path = f\"{workflowFolderLoc}\\\\georef_1927\\\\{feature}\"\n",
    "    tif83path = f\"{workflowFolderLoc}\\\\georef_1983\\\\{feature}\"\n",
    "\n",
    "    if not arcpy.Exists(tif27path):\n",
    "        print(f\"{tif27path} does not exist.\")\n",
    "\n",
    "    if not arcpy.Exists(tif83path):\n",
    "        print(f\"{tif83path} does not exist.\")"
   ]
  },
  {
   "cell_type": "code",
   "execution_count": null,
   "metadata": {},
   "outputs": [],
   "source": [
    "desc = arcpy.Describe(r\"E:\\Thorne_Lab_Internship\\G_and_F_workflow1\\g_and_f.gdb\\abbr\")\n",
    "sr = desc.spatialReference\n",
    "print(sr)\n",
    "\n",
    "# lists all fds's with level 3 \n",
    "\n",
    "level3ds = []\n",
    "\n",
    "for dataset in featureDatasets: \n",
    "    fcList = arcpy.ListFeatureClasses(feature_dataset=dataset)\n",
    "    # Check if any feature class contains 'level_3' in its name\n",
    "    if any('level_3' in fc for fc in fcList):\n",
    "        level3ds.append(dataset)\n",
    "print(level3ds)\n",
    "\n",
    "for dataset in level3ds: \n",
    "    arcpy.management.CreateFeatureclass(\n",
    "            out_path=f\"{geodatabase}\\\\{dataset}\",\n",
    "            out_name=f\"{dataset}_dashlines\",\n",
    "            geometry_type=\"POLYLINE\",\n",
    "            template=None,\n",
    "            has_m=\"DISABLED\",\n",
    "            has_z=\"DISABLED\",\n",
    "            spatial_reference='PROJCS[\"NAD_1983_2011_California_Teale_Albers\",GEOGCS[\"GCS_NAD_1983_2011\",DATUM[\"D_NAD_1983_2011\",SPHEROID[\"GRS_1980\",6378137.0,298.257222101]],PRIMEM[\"Greenwich\",0.0],UNIT[\"Degree\",0.0174532925199433]],PROJECTION[\"Albers\"],PARAMETER[\"False_Easting\",0.0],PARAMETER[\"False_Northing\",-4000000.0],PARAMETER[\"Central_Meridian\",-120.0],PARAMETER[\"Standard_Parallel_1\",34.0],PARAMETER[\"Standard_Parallel_2\",40.5],PARAMETER[\"Latitude_Of_Origin\",0.0],UNIT[\"Meter\",1.0]];-16909700 -8597000 10000;-100000 10000;-100000 10000;0.001;0.001;0.001;IsHighPrecision',\n",
    "            config_keyword=\"\",\n",
    "            spatial_grid_1=0,\n",
    "            spatial_grid_2=0,\n",
    "            spatial_grid_3=0,\n",
    "            out_alias=\"\",\n",
    "            oid_type=\"SAME_AS_TEMPLATE\")     "
   ]
  }
 ],
 "metadata": {
  "colab": {
   "collapsed_sections": [
    "xFDWmIkhtKpR"
   ],
   "provenance": []
  },
  "kernelspec": {
   "display_name": "ArcGISPro",
   "language": "Python",
   "name": "python3"
  },
  "language_info": {
   "file_extension": ".py",
   "name": "python",
   "version": "3"
  }
 },
 "nbformat": 4,
 "nbformat_minor": 1
}
